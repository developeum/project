{
 "cells": [
  {
   "cell_type": "code",
   "execution_count": 1,
   "metadata": {},
   "outputs": [],
   "source": [
    "import numpy as np\n",
    "import pandas as pd\n",
    "from time import time\n",
    "import matplotlib.pyplot as plt\n",
    "\n",
    "from sklearn.feature_extraction.text import TfidfVectorizer\n",
    "\n",
    "from sklearn.model_selection import train_test_split\n",
    "\n",
    "from sklearn.naive_bayes import BernoulliNB, ComplementNB, MultinomialNB\n",
    "from sklearn.neighbors import KNeighborsClassifier\n",
    "from sklearn.ensemble import RandomForestClassifier\n",
    "from sklearn.utils.extmath import density\n",
    "from sklearn import metrics"
   ]
  },
  {
   "cell_type": "code",
   "execution_count": 2,
   "metadata": {},
   "outputs": [
    {
     "data": {
      "text/html": [
       "<div>\n",
       "<style scoped>\n",
       "    .dataframe tbody tr th:only-of-type {\n",
       "        vertical-align: middle;\n",
       "    }\n",
       "\n",
       "    .dataframe tbody tr th {\n",
       "        vertical-align: top;\n",
       "    }\n",
       "\n",
       "    .dataframe thead th {\n",
       "        text-align: right;\n",
       "    }\n",
       "</style>\n",
       "<table border=\"1\" class=\"dataframe\">\n",
       "  <thead>\n",
       "    <tr style=\"text-align: right;\">\n",
       "      <th></th>\n",
       "      <th>full_name</th>\n",
       "      <th>name</th>\n",
       "      <th>event_time</th>\n",
       "      <th>full_description</th>\n",
       "      <th>description</th>\n",
       "      <th>city</th>\n",
       "      <th>category</th>\n",
       "      <th>class</th>\n",
       "    </tr>\n",
       "  </thead>\n",
       "  <tbody>\n",
       "    <tr>\n",
       "      <th>0</th>\n",
       "      <td>Встреча в IT-баре KLЮTCH</td>\n",
       "      <td>встреча it бар klюtch</td>\n",
       "      <td>2014-01-31 16:00:00+00</td>\n",
       "      <td>Соберемся первый раз в 2014-м году и поговорим...</td>\n",
       "      <td>собраться первый м поговорить нелёгкий девопёс...</td>\n",
       "      <td>St. Petersburg</td>\n",
       "      <td>Tech</td>\n",
       "      <td>devops</td>\n",
       "    </tr>\n",
       "    <tr>\n",
       "      <th>1</th>\n",
       "      <td>Встреча в DataArt, Go в гостях у DevOps-40</td>\n",
       "      <td>встреча dataart go гость devops</td>\n",
       "      <td>2014-03-27 14:00:00+00</td>\n",
       "      <td>Совместная встреча питерских Go и DevOps групп...</td>\n",
       "      <td>совместный go devops группа слово рассказать и...</td>\n",
       "      <td>St. Petersburg</td>\n",
       "      <td>Tech</td>\n",
       "      <td>devops</td>\n",
       "    </tr>\n",
       "    <tr>\n",
       "      <th>2</th>\n",
       "      <td>Встреча в DataArt, \"Повторяемость по-питерски\"</td>\n",
       "      <td>встреча dataart повторяемость питерски</td>\n",
       "      <td>2014-04-29 15:00:00+00</td>\n",
       "      <td>Я не был на московском DevOps-митапе в Яндексе...</td>\n",
       "      <td>devops митапа яндекс холодно ехать смотреть вы...</td>\n",
       "      <td>St. Petersburg</td>\n",
       "      <td>Tech</td>\n",
       "      <td>devops</td>\n",
       "    </tr>\n",
       "    <tr>\n",
       "      <th>3</th>\n",
       "      <td>Piter United - глобальная встреча питерских со...</td>\n",
       "      <td>piter united глобальный встреча питерский сооб...</td>\n",
       "      <td>2014-05-30 10:00:00+00</td>\n",
       "      <td>http://piter-united.ru/ - глобальный сбор всех...</td>\n",
       "      <td>глобальный сбор сообщество программа островок ...</td>\n",
       "      <td>St. Petersburg</td>\n",
       "      <td>Tech</td>\n",
       "      <td>devops</td>\n",
       "    </tr>\n",
       "    <tr>\n",
       "      <th>4</th>\n",
       "      <td>DevOps-40 в гостях у SPbLUG</td>\n",
       "      <td>devops гость spblug</td>\n",
       "      <td>2014-06-25 15:00:00+00</td>\n",
       "      <td>Митап пройдет совместно с SPbLUG в центре \"Фен...</td>\n",
       "      <td>митапа пройти совместно spblug центр spblug тр...</td>\n",
       "      <td>St. Petersburg</td>\n",
       "      <td>Tech</td>\n",
       "      <td>devops</td>\n",
       "    </tr>\n",
       "    <tr>\n",
       "      <th>...</th>\n",
       "      <td>...</td>\n",
       "      <td>...</td>\n",
       "      <td>...</td>\n",
       "      <td>...</td>\n",
       "      <td>...</td>\n",
       "      <td>...</td>\n",
       "      <td>...</td>\n",
       "      <td>...</td>\n",
       "    </tr>\n",
       "    <tr>\n",
       "      <th>253</th>\n",
       "      <td>Data Webinar</td>\n",
       "      <td>data webinar</td>\n",
       "      <td>2020-10-15 15:00:00+00</td>\n",
       "      <td>15 октября приглашаем на Data Webinar! Вебинар...</td>\n",
       "      <td>data webinar вебинар интересный специалист big...</td>\n",
       "      <td>Без города</td>\n",
       "      <td>Tech</td>\n",
       "      <td>ds</td>\n",
       "    </tr>\n",
       "    <tr>\n",
       "      <th>254</th>\n",
       "      <td>Data Quality Meetup #2</td>\n",
       "      <td>data quality meetup</td>\n",
       "      <td>2020-10-21 16:00:00+00</td>\n",
       "      <td>21 октября приглашаем на 2-й Data Quality Onli...</td>\n",
       "      <td>й data quality online meetup data quality engi...</td>\n",
       "      <td>Без города</td>\n",
       "      <td>Tech</td>\n",
       "      <td>ds</td>\n",
       "    </tr>\n",
       "    <tr>\n",
       "      <th>255</th>\n",
       "      <td>Online hour with expert \"Каково это — быть тим...</td>\n",
       "      <td>online hour with expert каков быть тимлидом м</td>\n",
       "      <td>2020-10-21 16:00:00+00</td>\n",
       "      <td>DataArt приглашает на встречу технического соо...</td>\n",
       "      <td>dataart технический сообщество it talk формат ...</td>\n",
       "      <td>Без города</td>\n",
       "      <td>Tech</td>\n",
       "      <td>busorg</td>\n",
       "    </tr>\n",
       "    <tr>\n",
       "      <th>256</th>\n",
       "      <td>Webinar for juniors Izhevsk #2</td>\n",
       "      <td>webinar for juniors izhevsk</td>\n",
       "      <td>2020-10-22 14:00:00+00</td>\n",
       "      <td>Только начинаете карьеру в IT и хотите получит...</td>\n",
       "      <td>начинать карьера it хотеть получить полезный з...</td>\n",
       "      <td>Без города</td>\n",
       "      <td>Tech</td>\n",
       "      <td>web</td>\n",
       "    </tr>\n",
       "    <tr>\n",
       "      <th>257</th>\n",
       "      <td>EPAM Test Automation Hiring Week</td>\n",
       "      <td>epam test automation hiring week</td>\n",
       "      <td>2020-10-26 07:00:00+00</td>\n",
       "      <td>Приглашаем автоматизаторов Middle + принять уч...</td>\n",
       "      <td>автоматизатор middle принять участие test auto...</td>\n",
       "      <td>Без города</td>\n",
       "      <td>Tech</td>\n",
       "      <td>qa</td>\n",
       "    </tr>\n",
       "  </tbody>\n",
       "</table>\n",
       "<p>258 rows × 8 columns</p>\n",
       "</div>"
      ],
      "text/plain": [
       "                                             full_name  \\\n",
       "0                             Встреча в IT-баре KLЮTCH   \n",
       "1           Встреча в DataArt, Go в гостях у DevOps-40   \n",
       "2       Встреча в DataArt, \"Повторяемость по-питерски\"   \n",
       "3    Piter United - глобальная встреча питерских со...   \n",
       "4                          DevOps-40 в гостях у SPbLUG   \n",
       "..                                                 ...   \n",
       "253                                       Data Webinar   \n",
       "254                             Data Quality Meetup #2   \n",
       "255  Online hour with expert \"Каково это — быть тим...   \n",
       "256                     Webinar for juniors Izhevsk #2   \n",
       "257                   EPAM Test Automation Hiring Week   \n",
       "\n",
       "                                                  name  \\\n",
       "0                                встреча it бар klюtch   \n",
       "1                      встреча dataart go гость devops   \n",
       "2               встреча dataart повторяемость питерски   \n",
       "3    piter united глобальный встреча питерский сооб...   \n",
       "4                                  devops гость spblug   \n",
       "..                                                 ...   \n",
       "253                                       data webinar   \n",
       "254                                data quality meetup   \n",
       "255      online hour with expert каков быть тимлидом м   \n",
       "256                        webinar for juniors izhevsk   \n",
       "257                   epam test automation hiring week   \n",
       "\n",
       "                 event_time  \\\n",
       "0    2014-01-31 16:00:00+00   \n",
       "1    2014-03-27 14:00:00+00   \n",
       "2    2014-04-29 15:00:00+00   \n",
       "3    2014-05-30 10:00:00+00   \n",
       "4    2014-06-25 15:00:00+00   \n",
       "..                      ...   \n",
       "253  2020-10-15 15:00:00+00   \n",
       "254  2020-10-21 16:00:00+00   \n",
       "255  2020-10-21 16:00:00+00   \n",
       "256  2020-10-22 14:00:00+00   \n",
       "257  2020-10-26 07:00:00+00   \n",
       "\n",
       "                                      full_description  \\\n",
       "0    Соберемся первый раз в 2014-м году и поговорим...   \n",
       "1    Совместная встреча питерских Go и DevOps групп...   \n",
       "2    Я не был на московском DevOps-митапе в Яндексе...   \n",
       "3    http://piter-united.ru/ - глобальный сбор всех...   \n",
       "4    Митап пройдет совместно с SPbLUG в центре \"Фен...   \n",
       "..                                                 ...   \n",
       "253  15 октября приглашаем на Data Webinar! Вебинар...   \n",
       "254  21 октября приглашаем на 2-й Data Quality Onli...   \n",
       "255  DataArt приглашает на встречу технического соо...   \n",
       "256  Только начинаете карьеру в IT и хотите получит...   \n",
       "257  Приглашаем автоматизаторов Middle + принять уч...   \n",
       "\n",
       "                                           description            city  \\\n",
       "0    собраться первый м поговорить нелёгкий девопёс...  St. Petersburg   \n",
       "1    совместный go devops группа слово рассказать и...  St. Petersburg   \n",
       "2    devops митапа яндекс холодно ехать смотреть вы...  St. Petersburg   \n",
       "3    глобальный сбор сообщество программа островок ...  St. Petersburg   \n",
       "4    митапа пройти совместно spblug центр spblug тр...  St. Petersburg   \n",
       "..                                                 ...             ...   \n",
       "253  data webinar вебинар интересный специалист big...      Без города   \n",
       "254  й data quality online meetup data quality engi...      Без города   \n",
       "255  dataart технический сообщество it talk формат ...      Без города   \n",
       "256  начинать карьера it хотеть получить полезный з...      Без города   \n",
       "257  автоматизатор middle принять участие test auto...      Без города   \n",
       "\n",
       "    category   class  \n",
       "0       Tech  devops  \n",
       "1       Tech  devops  \n",
       "2       Tech  devops  \n",
       "3       Tech  devops  \n",
       "4       Tech  devops  \n",
       "..       ...     ...  \n",
       "253     Tech      ds  \n",
       "254     Tech      ds  \n",
       "255     Tech  busorg  \n",
       "256     Tech     web  \n",
       "257     Tech      qa  \n",
       "\n",
       "[258 rows x 8 columns]"
      ]
     },
     "execution_count": 2,
     "metadata": {},
     "output_type": "execute_result"
    }
   ],
   "source": [
    "it_df = pd.read_csv('data/6_classes_no_names.csv', sep=',')\n",
    "it_df"
   ]
  },
  {
   "cell_type": "code",
   "execution_count": 3,
   "metadata": {},
   "outputs": [],
   "source": [
    "X = it_df['description'].to_numpy()\n",
    "y = it_df['class'].to_numpy()\n",
    "\n",
    "x_train, x_test, y_train, y_test = train_test_split(X, y, train_size=0.80, random_state=19)"
   ]
  },
  {
   "cell_type": "code",
   "execution_count": 4,
   "metadata": {},
   "outputs": [],
   "source": [
    "vectorizer = TfidfVectorizer(sublinear_tf=False, max_df=0.5, max_features=42, stop_words='english')\n",
    "X_train = vectorizer.fit_transform(x_train)"
   ]
  },
  {
   "cell_type": "code",
   "execution_count": 5,
   "metadata": {},
   "outputs": [
    {
     "name": "stdout",
     "output_type": "stream",
     "text": [
      "['mobile' 'busorg' 'busorg' 'busorg' 'busorg' 'qa' 'qa' 'mobile' 'ds'\n",
      " 'devops' 'ds' 'ds' 'busorg' 'qa' 'busorg' 'busorg' 'busorg' 'web' 'ds'\n",
      " 'devops' 'ds' 'busorg' 'qa' 'devops' 'busorg' 'ds' 'busorg' 'devops'\n",
      " 'busorg' 'busorg' 'web' 'busorg' 'busorg' 'busorg' 'devops' 'busorg'\n",
      " 'devops' 'devops' 'busorg' 'ds' 'ds' 'devops' 'busorg' 'devops' 'devops'\n",
      " 'busorg' 'ds' 'mobile' 'mobile' 'busorg' 'mobile' 'web']\n",
      "['qa' 'ds' 'web' 'busorg' 'qa' 'ds' 'devops' 'qa' 'ds' 'mobile' 'web' 'ds'\n",
      " 'busorg' 'ds' 'ds' 'ds' 'mobile' 'devops' 'busorg' 'web' 'web' 'devops'\n",
      " 'web' 'devops' 'busorg' 'devops' 'mobile' 'ds' 'qa' 'devops' 'busorg'\n",
      " 'mobile' 'ds' 'devops' 'mobile' 'devops' 'web' 'busorg' 'devops' 'ds'\n",
      " 'busorg' 'busorg' 'busorg' 'devops' 'devops' 'ds' 'mobile' 'busorg' 'web'\n",
      " 'devops' 'busorg' 'mobile' 'devops' 'web' 'mobile' 'web' 'ds' 'qa'\n",
      " 'busorg' 'mobile' 'web' 'mobile' 'mobile' 'devops' 'devops' 'qa' 'qa'\n",
      " 'ds' 'mobile' 'busorg' 'web' 'mobile' 'devops' 'mobile' 'busorg' 'devops'\n",
      " 'devops' 'qa' 'mobile' 'ds' 'busorg' 'web' 'qa' 'web' 'devops' 'ds'\n",
      " 'devops' 'devops' 'mobile' 'qa' 'qa' 'devops' 'devops' 'busorg' 'busorg'\n",
      " 'ds' 'ds' 'qa' 'devops' 'web' 'ds' 'mobile' 'mobile' 'busorg' 'busorg'\n",
      " 'ds' 'ds' 'busorg' 'web' 'ds' 'busorg' 'devops' 'ds' 'web' 'busorg'\n",
      " 'devops' 'devops' 'busorg' 'mobile' 'busorg' 'qa' 'busorg' 'qa' 'devops'\n",
      " 'qa' 'busorg' 'web' 'web' 'web' 'busorg' 'ds' 'busorg' 'qa' 'busorg' 'qa'\n",
      " 'ds' 'web' 'busorg' 'devops' 'mobile' 'busorg' 'devops' 'busorg' 'ds'\n",
      " 'ds' 'busorg' 'devops' 'ds' 'qa' 'busorg' 'busorg' 'busorg' 'mobile'\n",
      " 'busorg' 'ds' 'mobile' 'busorg' 'ds' 'web' 'qa' 'busorg' 'mobile'\n",
      " 'mobile' 'web' 'devops' 'ds' 'busorg' 'busorg' 'busorg' 'busorg' 'mobile'\n",
      " 'devops' 'web' 'ds' 'busorg' 'mobile' 'qa' 'devops' 'busorg' 'busorg'\n",
      " 'ds' 'busorg' 'mobile' 'busorg' 'devops' 'qa' 'busorg' 'ds' 'ds' 'mobile'\n",
      " 'ds' 'ds' 'qa' 'busorg' 'web' 'busorg' 'devops' 'mobile' 'ds' 'mobile'\n",
      " 'ds' 'busorg' 'qa' 'ds' 'ds' 'busorg']\n"
     ]
    }
   ],
   "source": [
    "print(y_test)\n",
    "print(y_train)"
   ]
  },
  {
   "cell_type": "code",
   "execution_count": 6,
   "metadata": {},
   "outputs": [],
   "source": [
    "feature_names = np.array(vectorizer.get_feature_names())\n",
    "\n",
    "target_names = [['ds'], ['mobile'],['qa'], ['web'], ['devops'], ['busorg']]"
   ]
  },
  {
   "cell_type": "code",
   "execution_count": 7,
   "metadata": {},
   "outputs": [
    {
     "data": {
      "text/plain": [
       "array(['android', 'data', 'devops', 'kotlin', 'meetup', 'бизнес',\n",
       "       'возможный', 'дать', 'доклад', 'задача', 'инструмент',\n",
       "       'использование', 'использовать', 'код', 'команда', 'компания',\n",
       "       'мероприятие', 'митапа', 'опыт', 'офис', 'первый', 'приложение',\n",
       "       'пример', 'проблема', 'программа', 'продукт', 'проект', 'пройти',\n",
       "       'работать', 'разработка', 'разработчик', 'рассказать', 'решение',\n",
       "       'система', 'сообщество', 'специалист', 'тестирование',\n",
       "       'технология', 'участие', 'хотеть', 'человек', 'язык'], dtype='<U13')"
      ]
     },
     "execution_count": 7,
     "metadata": {},
     "output_type": "execute_result"
    }
   ],
   "source": [
    "feature_names"
   ]
  },
  {
   "cell_type": "code",
   "execution_count": 8,
   "metadata": {},
   "outputs": [],
   "source": [
    "X_test = vectorizer.transform(x_test)"
   ]
  },
  {
   "cell_type": "code",
   "execution_count": 9,
   "metadata": {},
   "outputs": [],
   "source": [
    "def trim(s):\n",
    "    return s if len(s) <= 80 else s[:150] + \"...\""
   ]
  },
  {
   "cell_type": "code",
   "execution_count": 10,
   "metadata": {},
   "outputs": [
    {
     "name": "stdout",
     "output_type": "stream",
     "text": [
      "MultinomialNB\n",
      "cross_val_score_mean:  0.732843137254902\n",
      "              precision    recall  f1-score   support\n",
      "\n",
      "      busorg       0.71      0.77      0.74        53\n",
      "      devops       0.72      0.81      0.76        36\n",
      "          ds       0.69      0.72      0.71        40\n",
      "      mobile       0.84      0.87      0.85        30\n",
      "          qa       0.93      0.61      0.74        23\n",
      "         web       0.60      0.50      0.55        24\n",
      "\n",
      "    accuracy                           0.73       206\n",
      "   macro avg       0.75      0.71      0.72       206\n",
      "weighted avg       0.74      0.73      0.73       206\n",
      "\n"
     ]
    },
    {
     "data": {
      "image/png": "[encoded data removed]",
      "text/plain": [
       "<Figure size 432x288 with 2 Axes>"
      ]
     },
     "metadata": {
      "needs_background": "light"
     },
     "output_type": "display_data"
    },
    {
     "name": "stdout",
     "output_type": "stream",
     "text": [
      "['ds']: опыт продукт митапа компания человек хотеть бизнес команда возможный проект...\n",
      "['mobile']: технология программа система пройти митапа рассказать сообщество опыт доклад devops...\n",
      "['qa']: разработка система программа специалист meetup задача рассказать дать доклад data...\n",
      "['web']: мероприятие код офис пройти разработчик доклад разработка приложение kotlin android...\n",
      "['devops']: meetup участие проект опыт сообщество программа инструмент компания доклад тестирование...\n",
      "['busorg']: компания технология использование программа участие разработка разработчик приложение рассказать доклад...\n"
     ]
    }
   ],
   "source": [
    "from sklearn.model_selection import cross_val_score, cross_val_predict\n",
    "\n",
    "mdl = MultinomialNB(alpha=.01)\n",
    "print(\"MultinomialNB\")\n",
    "scores = cross_val_score(mdl, X_train, y_train, cv=4)\n",
    "print(\"cross_val_score_mean: \", np.mean(scores))\n",
    "y_pred = cross_val_predict(mdl, X_train, y_train, cv=4)\n",
    "print(metrics.classification_report(y_train, y_pred))\n",
    "mdl.fit(X_train,y_train)\n",
    "metrics.plot_confusion_matrix(mdl, X_test, y_test)\n",
    "plt.show()\n",
    "for i, label in enumerate(target_names):\n",
    "    top10 = np.argsort(mdl.coef_[i])[-10:]\n",
    "    print(trim(\"%s: %s\" % (label, \" \".join(feature_names[top10]))))"
   ]
  },
  {
   "cell_type": "code",
   "execution_count": 11,
   "metadata": {},
   "outputs": [
    {
     "name": "stdout",
     "output_type": "stream",
     "text": [
      "BernoulliNB\n",
      "cross_val_score_mean:  0.679392911010558\n",
      "              precision    recall  f1-score   support\n",
      "\n",
      "      busorg       0.70      0.74      0.72        53\n",
      "      devops       0.80      0.78      0.79        36\n",
      "          ds       0.67      0.80      0.73        40\n",
      "      mobile       0.67      0.67      0.67        30\n",
      "          qa       0.81      0.57      0.67        23\n",
      "         web       0.38      0.33      0.36        24\n",
      "\n",
      "    accuracy                           0.68       206\n",
      "   macro avg       0.67      0.65      0.65       206\n",
      "weighted avg       0.68      0.68      0.68       206\n",
      "\n"
     ]
    },
    {
     "data": {
      "image/png": "[encoded data removed]",
      "text/plain": [
       "<Figure size 432x288 with 2 Axes>"
      ]
     },
     "metadata": {
      "needs_background": "light"
     },
     "output_type": "display_data"
    },
    {
     "name": "stdout",
     "output_type": "stream",
     "text": [
      "['ds']: рассказать возможный митапа компания пройти бизнес человек хотеть проект команда...\n",
      "['mobile']: пройти мероприятие митапа компания проект опыт сообщество рассказать доклад devops...\n",
      "['qa']: компания специалист meetup митапа задача программа дать рассказать доклад data...\n",
      "['web']: kotlin пройти офис мероприятие рассказать приложение разработчик разработка доклад android...\n",
      "['devops']: система инструмент рассказать сообщество участие программа опыт компания доклад тестирование...\n",
      "['busorg']: использование технология митапа участие программа разработка приложение разработчик рассказать доклад...\n"
     ]
    }
   ],
   "source": [
    "mdl = BernoulliNB(alpha=.01)\n",
    "print(\"BernoulliNB\")\n",
    "scores = cross_val_score(mdl, X_train, y_train, cv=4)\n",
    "print(\"cross_val_score_mean: \", np.mean(scores))\n",
    "y_pred = cross_val_predict(mdl, X_train, y_train, cv=4)\n",
    "print(metrics.classification_report(y_train, y_pred))\n",
    "mdl.fit(X_train,y_train)\n",
    "metrics.plot_confusion_matrix(mdl, X_test, y_test)\n",
    "plt.show()\n",
    "for i, label in enumerate(target_names):\n",
    "    top10 = np.argsort(mdl.coef_[i])[-10:]\n",
    "    print(trim(\"%s: %s\" % (label, \" \".join(feature_names[top10]))))"
   ]
  },
  {
   "cell_type": "code",
   "execution_count": 12,
   "metadata": {},
   "outputs": [
    {
     "name": "stdout",
     "output_type": "stream",
     "text": [
      "ComplementNB\n",
      "cross_val_score_mean:  0.7185143288084465\n",
      "              precision    recall  f1-score   support\n",
      "\n",
      "      busorg       0.73      0.81      0.77        53\n",
      "      devops       0.82      0.78      0.80        36\n",
      "          ds       0.71      0.68      0.69        40\n",
      "      mobile       0.74      0.87      0.80        30\n",
      "          qa       0.69      0.78      0.73        23\n",
      "         web       0.43      0.25      0.32        24\n",
      "\n",
      "    accuracy                           0.72       206\n",
      "   macro avg       0.69      0.69      0.69       206\n",
      "weighted avg       0.70      0.72      0.71       206\n",
      "\n"
     ]
    },
    {
     "data": {
      "image/png": "[encoded data removed]",
      "text/plain": [
       "<Figure size 432x288 with 2 Axes>"
      ]
     },
     "metadata": {
      "needs_background": "light"
     },
     "output_type": "display_data"
    },
    {
     "name": "stdout",
     "output_type": "stream",
     "text": [
      "['ds']: использовать код проблема команда язык бизнес хотеть продукт человек возможный...\n",
      "['mobile']: система kotlin инструмент задача код технология проблема использовать язык devops...\n",
      "['qa']: kotlin система специалист использовать код решение проблема язык задача data...\n",
      "['web']: приложение офис проблема решение задача использовать код язык kotlin android...\n",
      "['devops']: первый технология решение код проблема kotlin инструмент использовать язык тестирование...\n",
      "['busorg']: инструмент задача пример первый технология проблема использовать kotlin язык код...\n"
     ]
    }
   ],
   "source": [
    "mdl = ComplementNB(alpha=.1)\n",
    "print(\"ComplementNB\")\n",
    "scores = cross_val_score(mdl, X_train, y_train, cv=4)\n",
    "print(\"cross_val_score_mean: \", np.mean(scores))\n",
    "y_pred = cross_val_predict(mdl, X_train, y_train, cv=4)\n",
    "print(metrics.classification_report(y_train, y_pred))\n",
    "mdl.fit(X_train,y_train)\n",
    "metrics.plot_confusion_matrix(mdl, X_test, y_test)\n",
    "plt.show()\n",
    "for i, label in enumerate(target_names):\n",
    "    top10 = np.argsort(mdl.coef_[i])[-10:]\n",
    "    print(trim(\"%s: %s\" % (label, \" \".join(feature_names[top10]))))"
   ]
  },
  {
   "cell_type": "code",
   "execution_count": 13,
   "metadata": {},
   "outputs": [
    {
     "name": "stdout",
     "output_type": "stream",
     "text": [
      "KNeighborsClassifier\n",
      "cross_val_score_mean:  0.7472662141779789\n",
      "              precision    recall  f1-score   support\n",
      "\n",
      "      busorg       0.70      0.85      0.77        53\n",
      "      devops       0.82      0.78      0.80        36\n",
      "          ds       0.71      0.75      0.73        40\n",
      "      mobile       0.82      0.90      0.86        30\n",
      "          qa       0.89      0.74      0.81        23\n",
      "         web       0.50      0.29      0.37        24\n",
      "\n",
      "    accuracy                           0.75       206\n",
      "   macro avg       0.74      0.72      0.72       206\n",
      "weighted avg       0.74      0.75      0.74       206\n",
      "\n"
     ]
    },
    {
     "data": {
      "image/png": "[encoded data removed]",
      "text/plain": [
       "<Figure size 432x288 with 2 Axes>"
      ]
     },
     "metadata": {
      "needs_background": "light"
     },
     "output_type": "display_data"
    }
   ],
   "source": [
    "mdl = KNeighborsClassifier(n_neighbors=14)\n",
    "print(\"KNeighborsClassifier\")\n",
    "scores = cross_val_score(mdl, X_train, y_train, cv=4)\n",
    "print(\"cross_val_score_mean: \", np.mean(scores))\n",
    "y_pred = cross_val_predict(mdl, X_train, y_train, cv=4)\n",
    "print(metrics.classification_report(y_train, y_pred))\n",
    "mdl.fit(X_train,y_train)\n",
    "metrics.plot_confusion_matrix(mdl, X_test, y_test)\n",
    "plt.show()"
   ]
  },
  {
   "cell_type": "code",
   "execution_count": 14,
   "metadata": {},
   "outputs": [
    {
     "name": "stdout",
     "output_type": "stream",
     "text": [
      "RandomForestClassifier\n",
      "cross_val_score_mean:  0.7765837104072398\n",
      "              precision    recall  f1-score   support\n",
      "\n",
      "      busorg       0.69      0.83      0.75        53\n",
      "      devops       1.00      0.86      0.93        36\n",
      "          ds       0.70      0.75      0.72        40\n",
      "      mobile       0.96      0.80      0.87        30\n",
      "          qa       0.90      0.83      0.86        23\n",
      "         web       0.45      0.42      0.43        24\n",
      "\n",
      "    accuracy                           0.77       206\n",
      "   macro avg       0.78      0.75      0.76       206\n",
      "weighted avg       0.78      0.77      0.77       206\n",
      "\n"
     ]
    },
    {
     "data": {
      "image/png": "[encoded data removed]",
      "text/plain": [
       "<Figure size 432x288 with 2 Axes>"
      ]
     },
     "metadata": {
      "needs_background": "light"
     },
     "output_type": "display_data"
    }
   ],
   "source": [
    "mdl = RandomForestClassifier()\n",
    "print(\"RandomForestClassifier\")\n",
    "scores = cross_val_score(mdl, X_train, y_train, cv=4)\n",
    "print(\"cross_val_score_mean: \", np.mean(scores))\n",
    "y_pred = cross_val_predict(mdl, X_train, y_train, cv=4)\n",
    "print(metrics.classification_report(y_train, y_pred))\n",
    "mdl.fit(X_train,y_train)\n",
    "metrics.plot_confusion_matrix(mdl, X_test, y_test)\n",
    "plt.show()"
   ]
  },
  {
   "cell_type": "code",
   "execution_count": null,
   "metadata": {},
   "outputs": [],
   "source": []
  }
 ],
 "metadata": {
  "kernelspec": {
   "display_name": "Python 3",
   "language": "python",
   "name": "python3"
  },
  "language_info": {
   "codemirror_mode": {
    "name": "ipython",
    "version": 3
   },
   "file_extension": ".py",
   "mimetype": "text/x-python",
   "name": "python",
   "nbconvert_exporter": "python",
   "pygments_lexer": "ipython3",
   "version": "3.8.6"
  }
 },
 "nbformat": 4,
 "nbformat_minor": 4
}
