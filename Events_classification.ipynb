{
 "cells": [
  {
   "cell_type": "code",
   "execution_count": 80,
   "metadata": {},
   "outputs": [],
   "source": [
    "import numpy as np\n",
    "import pandas as pd\n",
    "from time import time\n",
    "import matplotlib.pyplot as plt\n",
    "\n",
    "from sklearn.feature_extraction.text import TfidfVectorizer\n",
    "\n",
    "from sklearn.model_selection import train_test_split\n",
    "\n",
    "from sklearn.naive_bayes import BernoulliNB, ComplementNB, MultinomialNB\n",
    "from sklearn.neighbors import KNeighborsClassifier\n",
    "from sklearn.ensemble import RandomForestClassifier\n",
    "from sklearn.utils.extmath import density\n",
    "from sklearn import metrics"
   ]
  },
  {
   "cell_type": "code",
   "execution_count": 84,
   "metadata": {},
   "outputs": [],
   "source": [
    "it_df = pd.read_csv('data/train_events1.csv', sep=';')\n",
    "X = it_df['description'].to_numpy()\n",
    "y = it_df['class'].to_numpy()\n",
    "\n",
    "x_train, x_test, y_train, y_test = train_test_split(X, y, train_size=0.8, random_state=42)"
   ]
  },
  {
   "cell_type": "code",
   "execution_count": 155,
   "metadata": {},
   "outputs": [],
   "source": [
    "vectorizer = TfidfVectorizer(sublinear_tf=True, max_df=0.5, max_features=20)\n",
    "X_train = vectorizer.fit_transform(x_train)"
   ]
  },
  {
   "cell_type": "code",
   "execution_count": 156,
   "metadata": {},
   "outputs": [],
   "source": [
    "feature_names = np.array(vectorizer.get_feature_names())\n",
    "\n",
    "target_names = [['ds'],['gamedev'], ['mobile'],['qa'], ['web']]"
   ]
  },
  {
   "cell_type": "code",
   "execution_count": 157,
   "metadata": {},
   "outputs": [
    {
     "data": {
      "text/plain": [
       "array(['встреча', 'выступить', 'год', 'ждать', 'использование',\n",
       "       'количество', 'компания', 'место', 'мобильный', 'новый', 'опыт',\n",
       "       'приложение', 'проект', 'работа', 'работать', 'рассмотреть',\n",
       "       'спикер', 'тестирование', 'технология', 'язык'], dtype='<U13')"
      ]
     },
     "execution_count": 157,
     "metadata": {},
     "output_type": "execute_result"
    }
   ],
   "source": [
    "feature_names"
   ]
  },
  {
   "cell_type": "code",
   "execution_count": 158,
   "metadata": {},
   "outputs": [],
   "source": [
    "X_test = vectorizer.transform(x_test)"
   ]
  },
  {
   "cell_type": "code",
   "execution_count": 159,
   "metadata": {},
   "outputs": [],
   "source": [
    "def trim(s):\n",
    "    return s if len(s) <= 80 else s[:77] + \"...\""
   ]
  },
  {
   "cell_type": "code",
   "execution_count": 160,
   "metadata": {},
   "outputs": [
    {
     "name": "stdout",
     "output_type": "stream",
     "text": [
      "================================================================================\n",
      "kNN\n",
      "________________________________________________________________________________\n",
      "Training: \n",
      "KNeighborsClassifier(n_neighbors=10)\n",
      "train time: 0.000s\n",
      "test time:  0.001s\n",
      "accuracy:   0.500\n",
      "confusion matrix:\n",
      "[[0 0 2 0 0]\n",
      " [0 0 1 0 0]\n",
      " [0 0 3 0 0]\n",
      " [0 0 0 1 0]\n",
      " [0 1 0 0 0]]\n",
      "\n",
      "================================================================================\n",
      "Random forest\n",
      "________________________________________________________________________________\n",
      "Training: \n",
      "RandomForestClassifier()\n",
      "train time: 0.082s\n",
      "test time:  0.006s\n",
      "accuracy:   0.500\n",
      "confusion matrix:\n",
      "[[0 0 2 0 0]\n",
      " [0 0 1 0 0]\n",
      " [0 0 3 0 0]\n",
      " [0 0 0 1 0]\n",
      " [0 1 0 0 0]]\n",
      "\n",
      "================================================================================\n",
      "Naive Bayes\n",
      "________________________________________________________________________________\n",
      "Training: \n",
      "MultinomialNB(alpha=0.01)\n",
      "train time: 0.001s\n",
      "test time:  0.000s\n",
      "accuracy:   0.375\n",
      "dimensionality: 20\n",
      "density: 1.000000\n",
      "top 10 keywords per class:\n",
      "['ds']: проект количество место мобильный компания использование выступить вс...\n",
      "['gamedev']: количество использование ждать год место проект рассмотреть рабо...\n",
      "['mobile']: работа работать рассмотреть компания спикер опыт новый язык проек...\n",
      "['qa']: ждать приложение новый место год количество работать компания работа ...\n",
      "['web']: спикер работать ждать использование рассмотреть опыт выступить встре...\n",
      "\n",
      "confusion matrix:\n",
      "[[0 0 2 0 0]\n",
      " [0 0 1 0 0]\n",
      " [0 0 3 0 0]\n",
      " [0 0 1 0 0]\n",
      " [0 0 1 0 0]]\n",
      "\n",
      "________________________________________________________________________________\n",
      "Training: \n",
      "BernoulliNB(alpha=0.01)\n",
      "train time: 0.001s\n",
      "test time:  0.000s\n",
      "accuracy:   0.500\n",
      "dimensionality: 20\n",
      "density: 1.000000\n",
      "top 10 keywords per class:\n",
      "['ds']: мобильный компания количество проект использование выступить место вс...\n",
      "['gamedev']: количество использование ждать год место проект рассмотреть рабо...\n",
      "['mobile']: приложение работать работа спикер новый опыт компания проект язык...\n",
      "['qa']: приложение проект работа год компания мобильный ждать работать количе...\n",
      "['web']: работать спикер использование ждать рассмотреть опыт проект выступит...\n",
      "\n",
      "confusion matrix:\n",
      "[[0 1 1 0 0]\n",
      " [0 0 1 0 0]\n",
      " [0 0 3 0 0]\n",
      " [0 0 0 1 0]\n",
      " [0 0 1 0 0]]\n",
      "\n",
      "________________________________________________________________________________\n",
      "Training: \n",
      "ComplementNB(alpha=0.1)\n",
      "train time: 0.001s\n",
      "test time:  0.000s\n",
      "accuracy:   0.500\n",
      "dimensionality: 20\n",
      "density: 1.000000\n",
      "top 10 keywords per class:\n",
      "['ds']: приложение работа новый спикер количество технология год место исполь...\n",
      "['gamedev']: приложение рассмотреть количество работа новый использование мес...\n",
      "['mobile']: тестирование приложение количество работа опыт использование мест...\n",
      "['qa']: использование компания приложение язык новый мобильный место количест...\n",
      "['web']: количество работа новый место рассмотреть год опыт использование язы...\n",
      "\n",
      "confusion matrix:\n",
      "[[1 0 0 1 0]\n",
      " [0 0 1 0 0]\n",
      " [0 0 3 0 0]\n",
      " [0 0 1 0 0]\n",
      " [0 0 1 0 0]]\n",
      "\n"
     ]
    }
   ],
   "source": [
    "def benchmark(clf):\n",
    "    print('_' * 80)\n",
    "    print(\"Training: \")\n",
    "    print(clf)\n",
    "    t0 = time()\n",
    "    clf.fit(X_train, y_train)\n",
    "    train_time = time() - t0\n",
    "    print(\"train time: %0.3fs\" % train_time)\n",
    "\n",
    "    t0 = time()\n",
    "    pred = clf.predict(X_test)\n",
    "    test_time = time() - t0\n",
    "    print(\"test time:  %0.3fs\" % test_time)\n",
    "\n",
    "    score = metrics.accuracy_score(y_test, pred)\n",
    "    print(\"accuracy:   %0.3f\" % score)\n",
    "\n",
    "    if hasattr(clf, 'coef_'):\n",
    "        print(\"dimensionality: %d\" % clf.coef_.shape[1])\n",
    "        print(\"density: %f\" % density(clf.coef_))\n",
    "\n",
    "        if feature_names is not None:\n",
    "            print(\"top 10 keywords per class:\")\n",
    "            for i, label in enumerate(target_names):\n",
    "                top10 = np.argsort(clf.coef_[i])[-10:]\n",
    "                print(trim(\"%s: %s\" % (label, \" \".join(feature_names[top10]))))\n",
    "        print()\n",
    "\n",
    "\n",
    "    print(\"confusion matrix:\")\n",
    "    print(metrics.confusion_matrix(y_test, pred))\n",
    "    \n",
    "\n",
    "    print()\n",
    "    clf_descr = str(clf).split('(')[0]\n",
    "    return clf_descr, score, train_time, test_time\n",
    "\n",
    "\n",
    "results = []\n",
    "for clf, name in (\n",
    "        (KNeighborsClassifier(n_neighbors=10), \"kNN\"),\n",
    "        (RandomForestClassifier(), \"Random forest\")):\n",
    "    print('=' * 80)\n",
    "    print(name)\n",
    "    results.append(benchmark(clf))\n",
    "\n",
    "\n",
    "\n",
    "print('=' * 80)\n",
    "print(\"Naive Bayes\")\n",
    "results.append(benchmark(MultinomialNB(alpha=.01)))\n",
    "results.append(benchmark(BernoulliNB(alpha=.01)))\n",
    "results.append(benchmark(ComplementNB(alpha=.1)))"
   ]
  },
  {
   "cell_type": "code",
   "execution_count": 161,
   "metadata": {},
   "outputs": [
    {
     "data": {
      "image/png": "[encoded data removed]",
      "text/plain": [
       "<Figure size 864x576 with 1 Axes>"
      ]
     },
     "metadata": {
      "needs_background": "light"
     },
     "output_type": "display_data"
    }
   ],
   "source": [
    "indices = np.arange(len(results))\n",
    "\n",
    "results = [[x[i] for x in results] for i in range(4)]\n",
    "\n",
    "clf_names, score, training_time, test_time = results\n",
    "training_time = np.array(training_time) / np.max(training_time)\n",
    "test_time = np.array(test_time) / np.max(test_time)\n",
    "\n",
    "plt.figure(figsize=(12, 8))\n",
    "plt.title(\"Score\")\n",
    "plt.barh(indices, score, .2, label=\"score\", color='navy')\n",
    "plt.barh(indices + .3, training_time, .2, label=\"training time\",\n",
    "         color='c')\n",
    "plt.barh(indices + .6, test_time, .2, label=\"test time\", color='darkorange')\n",
    "plt.yticks(())\n",
    "plt.legend(loc='best')\n",
    "plt.subplots_adjust(left=.25)\n",
    "plt.subplots_adjust(top=.95)\n",
    "plt.subplots_adjust(bottom=.05)\n",
    "\n",
    "for i, c in zip(indices, clf_names):\n",
    "    plt.text(-.3, i, c)\n",
    "\n",
    "plt.show()"
   ]
  },
  {
   "cell_type": "code",
   "execution_count": 162,
   "metadata": {},
   "outputs": [
    {
     "data": {
      "text/plain": [
       "array([0.6       , 0.64285714])"
      ]
     },
     "execution_count": 162,
     "metadata": {},
     "output_type": "execute_result"
    }
   ],
   "source": [
    "from sklearn.model_selection import cross_val_score\n",
    "\n",
    "mdl = MultinomialNB(alpha=.01)\n",
    "scores = cross_val_score(mdl, X_train, y_train, cv=2)\n",
    "scores"
   ]
  },
  {
   "cell_type": "code",
   "execution_count": 163,
   "metadata": {},
   "outputs": [
    {
     "data": {
      "text/plain": [
       "array([0.46666667, 0.57142857])"
      ]
     },
     "execution_count": 163,
     "metadata": {},
     "output_type": "execute_result"
    }
   ],
   "source": [
    "mdl = BernoulliNB(alpha=.01)\n",
    "scores = cross_val_score(mdl, X_train, y_train, cv=2)\n",
    "scores"
   ]
  },
  {
   "cell_type": "code",
   "execution_count": 164,
   "metadata": {},
   "outputs": [
    {
     "data": {
      "text/plain": [
       "array([0.6       , 0.57142857])"
      ]
     },
     "execution_count": 164,
     "metadata": {},
     "output_type": "execute_result"
    }
   ],
   "source": [
    "mdl = ComplementNB(alpha=.1)\n",
    "scores = cross_val_score(mdl, X_train, y_train, cv=2)\n",
    "scores"
   ]
  },
  {
   "cell_type": "code",
   "execution_count": 168,
   "metadata": {},
   "outputs": [
    {
     "data": {
      "text/plain": [
       "array([0.46666667, 0.5       ])"
      ]
     },
     "execution_count": 168,
     "metadata": {},
     "output_type": "execute_result"
    }
   ],
   "source": [
    "mdl = KNeighborsClassifier(n_neighbors=10)\n",
    "scores = cross_val_score(mdl, X_train, y_train, cv=2)\n",
    "scores"
   ]
  },
  {
   "cell_type": "code",
   "execution_count": 166,
   "metadata": {},
   "outputs": [
    {
     "data": {
      "text/plain": [
       "array([0.6       , 0.64285714])"
      ]
     },
     "execution_count": 166,
     "metadata": {},
     "output_type": "execute_result"
    }
   ],
   "source": [
    "mdl = RandomForestClassifier()\n",
    "scores = cross_val_score(mdl, X_train, y_train, cv=2)\n",
    "scores"
   ]
  },
  {
   "cell_type": "code",
   "execution_count": null,
   "metadata": {},
   "outputs": [],
   "source": []
  }
 ],
 "metadata": {
  "kernelspec": {
   "display_name": "Python 3",
   "language": "python",
   "name": "python3"
  },
  "language_info": {
   "codemirror_mode": {
    "name": "ipython",
    "version": 3
   },
   "file_extension": ".py",
   "mimetype": "text/x-python",
   "name": "python",
   "nbconvert_exporter": "python",
   "pygments_lexer": "ipython3",
   "version": "3.8.6"
  }
 },
 "nbformat": 4,
 "nbformat_minor": 4
}
