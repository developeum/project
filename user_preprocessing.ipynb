{
 "cells": [
  {
   "cell_type": "code",
   "execution_count": 1,
   "metadata": {},
   "outputs": [],
   "source": [
    "import pandas as pd\n",
    "import numpy as np"
   ]
  },
  {
   "cell_type": "code",
   "execution_count": 2,
   "metadata": {},
   "outputs": [
    {
     "data": {
      "text/html": [
       "<div>\n",
       "<style scoped>\n",
       "    .dataframe tbody tr th:only-of-type {\n",
       "        vertical-align: middle;\n",
       "    }\n",
       "\n",
       "    .dataframe tbody tr th {\n",
       "        vertical-align: top;\n",
       "    }\n",
       "\n",
       "    .dataframe thead th {\n",
       "        text-align: right;\n",
       "    }\n",
       "</style>\n",
       "<table border=\"1\" class=\"dataframe\">\n",
       "  <thead>\n",
       "    <tr style=\"text-align: right;\">\n",
       "      <th></th>\n",
       "      <th>Отметка времени</th>\n",
       "      <th>Какие из перечисленных мероприятий интересны Вам?</th>\n",
       "    </tr>\n",
       "  </thead>\n",
       "  <tbody>\n",
       "    <tr>\n",
       "      <th>0</th>\n",
       "      <td>2020/10/09 7:34:26 PM GMT+3</td>\n",
       "      <td>Лекция «Машинное обучение на Android»;Лекция «...</td>\n",
       "    </tr>\n",
       "    <tr>\n",
       "      <th>1</th>\n",
       "      <td>2020/10/09 8:01:59 PM GMT+3</td>\n",
       "      <td>Лекция «Умрёт ли FTP? Расцвет и упадок протоко...</td>\n",
       "    </tr>\n",
       "    <tr>\n",
       "      <th>2</th>\n",
       "      <td>2020/10/09 8:02:23 PM GMT+3</td>\n",
       "      <td>Лекция «Машинное обучение на Android»;Лекция «...</td>\n",
       "    </tr>\n",
       "    <tr>\n",
       "      <th>3</th>\n",
       "      <td>2020/10/09 8:04:03 PM GMT+3</td>\n",
       "      <td>Лекция «Объектно-ориентированный JavaScript пр...</td>\n",
       "    </tr>\n",
       "    <tr>\n",
       "      <th>4</th>\n",
       "      <td>2020/10/09 8:04:10 PM GMT+3</td>\n",
       "      <td>Лекция «О создании UI-анимаций в играх и почем...</td>\n",
       "    </tr>\n",
       "    <tr>\n",
       "      <th>...</th>\n",
       "      <td>...</td>\n",
       "      <td>...</td>\n",
       "    </tr>\n",
       "    <tr>\n",
       "      <th>88</th>\n",
       "      <td>2020/10/16 2:35:32 PM GMT+3</td>\n",
       "      <td>Лекция «Контейнерно-ориентированное интеграцио...</td>\n",
       "    </tr>\n",
       "    <tr>\n",
       "      <th>89</th>\n",
       "      <td>2020/10/16 2:54:24 PM GMT+3</td>\n",
       "      <td>Лекция «Объектно-ориентированный JavaScript пр...</td>\n",
       "    </tr>\n",
       "    <tr>\n",
       "      <th>90</th>\n",
       "      <td>2020/10/16 2:56:58 PM GMT+3</td>\n",
       "      <td>Лекция «Машинное обучение на Android»;Лекция «...</td>\n",
       "    </tr>\n",
       "    <tr>\n",
       "      <th>91</th>\n",
       "      <td>2020/10/16 5:51:51 PM GMT+3</td>\n",
       "      <td>Лекция «О создании UI-анимаций в играх и почем...</td>\n",
       "    </tr>\n",
       "    <tr>\n",
       "      <th>92</th>\n",
       "      <td>2020/10/17 1:37:14 AM GMT+3</td>\n",
       "      <td>Лекция «Объектно-ориентированный JavaScript пр...</td>\n",
       "    </tr>\n",
       "  </tbody>\n",
       "</table>\n",
       "<p>93 rows × 2 columns</p>\n",
       "</div>"
      ],
      "text/plain": [
       "                Отметка времени  \\\n",
       "0   2020/10/09 7:34:26 PM GMT+3   \n",
       "1   2020/10/09 8:01:59 PM GMT+3   \n",
       "2   2020/10/09 8:02:23 PM GMT+3   \n",
       "3   2020/10/09 8:04:03 PM GMT+3   \n",
       "4   2020/10/09 8:04:10 PM GMT+3   \n",
       "..                          ...   \n",
       "88  2020/10/16 2:35:32 PM GMT+3   \n",
       "89  2020/10/16 2:54:24 PM GMT+3   \n",
       "90  2020/10/16 2:56:58 PM GMT+3   \n",
       "91  2020/10/16 5:51:51 PM GMT+3   \n",
       "92  2020/10/17 1:37:14 AM GMT+3   \n",
       "\n",
       "    Какие из перечисленных мероприятий интересны Вам?  \n",
       "0   Лекция «Машинное обучение на Android»;Лекция «...  \n",
       "1   Лекция «Умрёт ли FTP? Расцвет и упадок протоко...  \n",
       "2   Лекция «Машинное обучение на Android»;Лекция «...  \n",
       "3   Лекция «Объектно-ориентированный JavaScript пр...  \n",
       "4   Лекция «О создании UI-анимаций в играх и почем...  \n",
       "..                                                ...  \n",
       "88  Лекция «Контейнерно-ориентированное интеграцио...  \n",
       "89  Лекция «Объектно-ориентированный JavaScript пр...  \n",
       "90  Лекция «Машинное обучение на Android»;Лекция «...  \n",
       "91  Лекция «О создании UI-анимаций в играх и почем...  \n",
       "92  Лекция «Объектно-ориентированный JavaScript пр...  \n",
       "\n",
       "[93 rows x 2 columns]"
      ]
     },
     "execution_count": 2,
     "metadata": {},
     "output_type": "execute_result"
    }
   ],
   "source": [
    "it_df = pd.read_csv('data/IT-мероприятия_new.csv')\n",
    "it_df"
   ]
  },
  {
   "cell_type": "code",
   "execution_count": 3,
   "metadata": {},
   "outputs": [],
   "source": [
    "events = []\n",
    "for x in it_df['Какие из перечисленных мероприятий интересны Вам?'].to_numpy():\n",
    "    for i in x.split(';'):\n",
    "        events.append(i)\n",
    "events = np.unique(events)"
   ]
  },
  {
   "cell_type": "code",
   "execution_count": 4,
   "metadata": {},
   "outputs": [
    {
     "data": {
      "text/plain": [
       "array(['Вебинар «Байесовские сети при помощи Python — что и зачем?»',\n",
       "       'Вебинар «Знакомимся с Needle, системой внедрения зависимостей на Swift»',\n",
       "       'Вебинар «Когда нужны тесты и автотесты. Взгляд из надсистемы»',\n",
       "       'Вебинар «Математика верстальщику не нужна, или Временные функции и траектории для покадровых 2D анимаций на сайтах»',\n",
       "       'Вебинар «Механики для реализации платформера на игровом движке Godot Engine»',\n",
       "       'Вебинар «Топ-9 тенденций автоматизированного тестирования в 2020 году»',\n",
       "       'Лекция «Контейнерно-ориентированное интеграционное тестирование»',\n",
       "       'Лекция «Машинное обучение на Android»',\n",
       "       'Лекция «О создании UI-анимаций в играх и почему они так важны»',\n",
       "       'Лекция «Объектно-ориентированный JavaScript простыми словами»',\n",
       "       'Лекция «Умрёт ли FTP? Расцвет и упадок протокола»',\n",
       "       'Лекция «Шум в больших данных. Анализ на основе энтропии информации»',\n",
       "       'Мастер-класс «Введение в Android-разработку»',\n",
       "       'Мастер-класс «Голос в мобильном приложении: учимся вызывать экраны и заполнять формы без рук»',\n",
       "       'Мастер-класс «Отрисовка первого кадра Android-приложения»',\n",
       "       'Мастер-класс «Создаем разрушаемые объекты в Unreal Engine 4 и Blender»',\n",
       "       'Мастер-класс «Создание браузерных 3D-игр на HTML, CSS и JS»',\n",
       "       'Мастер-класс «Трюки с CSS-анимациями: мгновенные изменения, отрицательные задержки, анимация transform-origin и другое»',\n",
       "       'Мастер-класс «Цепи Маркова и Python: разбираемся в теории и собираем генератор текстов»',\n",
       "       'Мастер-класс «Юнит-тесты на Python: быстрый старт»'],\n",
       "      dtype='<U119')"
      ]
     },
     "execution_count": 4,
     "metadata": {},
     "output_type": "execute_result"
    }
   ],
   "source": [
    "events"
   ]
  },
  {
   "cell_type": "code",
   "execution_count": 5,
   "metadata": {},
   "outputs": [
    {
     "name": "stdout",
     "output_type": "stream",
     "text": [
      "[[False False False ...  True  True False]\n",
      " [False False False ... False False False]\n",
      " [False False  True ... False False False]\n",
      " ...\n",
      " [False False  True ...  True False False]\n",
      " [False False False ... False False False]\n",
      " [False  True False ... False False False]]\n"
     ]
    }
   ],
   "source": [
    "new_events = []\n",
    "it = it_df['Какие из перечисленных мероприятий интересны Вам?'].to_numpy()\n",
    "\n",
    "for i in range(len(it)):\n",
    "    new_events.append(np.isin(events, it[i].split(';')))\n",
    "        \n",
    "print(np.array(new_events))"
   ]
  },
  {
   "cell_type": "code",
   "execution_count": 6,
   "metadata": {},
   "outputs": [],
   "source": [
    "df = pd.DataFrame(new_events,columns=events)"
   ]
  },
  {
   "cell_type": "code",
   "execution_count": 7,
   "metadata": {},
   "outputs": [],
   "source": [
    "df.to_csv('data/user_data.csv', index=False)\n"
   ]
  }
 ],
 "metadata": {
  "kernelspec": {
   "display_name": "Python 3",
   "language": "python",
   "name": "python3"
  },
  "language_info": {
   "codemirror_mode": {
    "name": "ipython",
    "version": 3
   },
   "file_extension": ".py",
   "mimetype": "text/x-python",
   "name": "python",
   "nbconvert_exporter": "python",
   "pygments_lexer": "ipython3",
   "version": "3.8.6"
  }
 },
 "nbformat": 4,
 "nbformat_minor": 4
}
