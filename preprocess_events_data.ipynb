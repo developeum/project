{
 "cells": [
  {
   "cell_type": "code",
   "execution_count": 1,
   "metadata": {
    "scrolled": true
   },
   "outputs": [
    {
     "name": "stdout",
     "output_type": "stream",
     "text": [
      "[nltk_data] Downloading package stopwords to\n",
      "[nltk_data]     C:\\Users\\Asus\\AppData\\Roaming\\nltk_data...\n",
      "[nltk_data]   Package stopwords is already up-to-date!\n"
     ]
    }
   ],
   "source": [
    "import pandas\n",
    "import pymorphy2\n",
    "import numpy as np\n",
    "import nltk\n",
    "nltk.download(\"stopwords\")\n",
    "from nltk.corpus import stopwords\n",
    "import langdetect"
   ]
  },
  {
   "cell_type": "code",
   "execution_count": 2,
   "metadata": {},
   "outputs": [],
   "source": [
    "events_df = pandas.read_csv('meetup_tech_18102020_tz_fixed.csv')"
   ]
  },
  {
   "cell_type": "code",
   "execution_count": 3,
   "metadata": {},
   "outputs": [],
   "source": [
    "events_df['description'] = events_df['description'].replace(r'https?:\\/\\/[^\\s]+', '', regex=True)\n",
    "events_df['description'] = events_df['description'].str.lower()\n",
    "events_df['description'] = events_df['description'].replace('ё', 'е', regex=True)\n",
    "events_df['description'] = events_df['description'].replace(r'\\w*январ\\w*|\\w*феврал\\w*|\\w*март\\w*|\\w*апрел\\w*|\\w*июн\\w*|\\w*июл\\w*|\\w*август\\w*|\\w*сентябр\\w*|\\w*октябр\\w*|\\w*ноябр\\w*|\\w*декабр\\w*|\\bма.\\b', ' ', regex=True)\n",
    "events_df['description'] = events_df['description'].replace(r'[^а-яА-Яa-zA-Z]', ' ', regex=True)"
   ]
  },
  {
   "cell_type": "code",
   "execution_count": 4,
   "metadata": {},
   "outputs": [],
   "source": [
    "events_df['name'] = events_df['name'].str.lower()\n",
    "events_df['name'] = events_df['name'].replace('ё', 'е', regex=True)\n",
    "events_df['name'] = events_df['name'].replace(r'\\w*январ\\w*|\\w*феврал\\w*|\\w*март\\w*|\\w*апрел\\w*|\\w*июн\\w*|\\w*июл\\w*|\\w*август\\w*|\\w*сентябр\\w*|\\w*октябр\\w*|\\w*ноябр\\w*|\\w*декабр\\w*|\\bма.\\b', ' ', regex=True)\n",
    "events_df['name'] = events_df['name'].replace(r'[^а-яА-Яa-zA-Z]', ' ', regex=True)"
   ]
  },
  {
   "cell_type": "code",
   "execution_count": 5,
   "metadata": {},
   "outputs": [],
   "source": [
    "morph = pymorphy2.MorphAnalyzer()"
   ]
  },
  {
   "cell_type": "code",
   "execution_count": 6,
   "metadata": {},
   "outputs": [],
   "source": [
    "stopwords = stopwords.words(\"russian\")\n",
    "stopwords.extend(['что', 'это', 'весь', 'этот', 'привет', 'так', 'вот', 'как', 'ссылка', 'регистрация', 'приглашать', 'еще'])"
   ]
  },
  {
   "cell_type": "code",
   "execution_count": 7,
   "metadata": {},
   "outputs": [],
   "source": [
    "descr_array = []\n",
    "names_array = []\n",
    "for i in range(len(events_df)):\n",
    "    descr = events_df['description'][i]\n",
    "    if not pandas.isna(descr):\n",
    "        descr = [morph.parse(word)[0].normal_form for word in descr.split() if morph.parse(word)[0].tag.POS not in {'INTJ', 'PRCL', 'CONJ', 'PREP', 'NPRO'}\n",
    "                 and morph.parse(word)[0].normal_form not in stopwords and langdetect.detect(word) == 'ru']\n",
    "        if not descr:\n",
    "            descr = np.nan\n",
    "        else:\n",
    "            descr = ' '.join(descr)\n",
    "    descr_array.append(descr)\n",
    "    name = events_df['name'][i]\n",
    "    if not pandas.isna(name):\n",
    "        name = [morph.parse(word)[0].normal_form for word in name.split() if morph.parse(word)[0].tag.POS not in {'INTJ', 'PRCL', 'CONJ', 'PREP', 'NPRO'}\n",
    "                and morph.parse(word)[0].normal_form not in stopwords]\n",
    "        name = ' '.join(name)\n",
    "    names_array.append(name)\n",
    "\n",
    "events_df['name'] = names_array\n",
    "events_df['description'] = descr_array"
   ]
  },
  {
   "cell_type": "code",
   "execution_count": 8,
   "metadata": {
    "scrolled": true
   },
   "outputs": [
    {
     "data": {
      "text/html": [
       "<div>\n",
       "<style scoped>\n",
       "    .dataframe tbody tr th:only-of-type {\n",
       "        vertical-align: middle;\n",
       "    }\n",
       "\n",
       "    .dataframe tbody tr th {\n",
       "        vertical-align: top;\n",
       "    }\n",
       "\n",
       "    .dataframe thead th {\n",
       "        text-align: right;\n",
       "    }\n",
       "</style>\n",
       "<table border=\"1\" class=\"dataframe\">\n",
       "  <thead>\n",
       "    <tr style=\"text-align: right;\">\n",
       "      <th></th>\n",
       "      <th>name</th>\n",
       "      <th>description</th>\n",
       "    </tr>\n",
       "  </thead>\n",
       "  <tbody>\n",
       "    <tr>\n",
       "      <th>0</th>\n",
       "      <td>google firebase meetup</td>\n",
       "      <td>первый серия год пройти посвятить сборная соля...</td>\n",
       "    </tr>\n",
       "    <tr>\n",
       "      <th>1</th>\n",
       "      <td>kotlin hardcore evening</td>\n",
       "      <td>состояться первый который посвятить язык прогр...</td>\n",
       "    </tr>\n",
       "    <tr>\n",
       "      <th>2</th>\n",
       "      <td>big android battle languages in java wasteland</td>\n",
       "      <td>питерский разработка состояться альтернативный...</td>\n",
       "    </tr>\n",
       "    <tr>\n",
       "      <th>3</th>\n",
       "      <td>mini mobius</td>\n",
       "      <td>скоро случиться главный событие мир российский...</td>\n",
       "    </tr>\n",
       "    <tr>\n",
       "      <th>4</th>\n",
       "      <td>i o extended saint petersburg</td>\n",
       "      <td>главное событие каждый разработчик год организ...</td>\n",
       "    </tr>\n",
       "  </tbody>\n",
       "</table>\n",
       "</div>"
      ],
      "text/plain": [
       "                                             name  \\\n",
       "0                          google firebase meetup   \n",
       "1                         kotlin hardcore evening   \n",
       "2  big android battle languages in java wasteland   \n",
       "3                                     mini mobius   \n",
       "4                   i o extended saint petersburg   \n",
       "\n",
       "                                         description  \n",
       "0  первый серия год пройти посвятить сборная соля...  \n",
       "1  состояться первый который посвятить язык прогр...  \n",
       "2  питерский разработка состояться альтернативный...  \n",
       "3  скоро случиться главный событие мир российский...  \n",
       "4  главное событие каждый разработчик год организ...  "
      ]
     },
     "execution_count": 8,
     "metadata": {},
     "output_type": "execute_result"
    }
   ],
   "source": [
    "events_df[['name','description']].head()"
   ]
  }
 ],
 "metadata": {
  "kernelspec": {
   "display_name": "Python 3",
   "language": "python",
   "name": "python3"
  },
  "language_info": {
   "codemirror_mode": {
    "name": "ipython",
    "version": 3
   },
   "file_extension": ".py",
   "mimetype": "text/x-python",
   "name": "python",
   "nbconvert_exporter": "python",
   "pygments_lexer": "ipython3",
   "version": "3.6.4"
  }
 },
 "nbformat": 4,
 "nbformat_minor": 2
}
