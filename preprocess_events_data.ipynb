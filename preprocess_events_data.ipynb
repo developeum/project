{
 "cells": [
  {
   "cell_type": "code",
   "execution_count": 1,
   "metadata": {},
   "outputs": [],
   "source": [
    "import pandas\n",
    "import pymorphy2"
   ]
  },
  {
   "cell_type": "code",
   "execution_count": 2,
   "metadata": {},
   "outputs": [],
   "source": [
    "events_df = pandas.read_csv('meetup_tech_18102020_tz_fixed.csv')"
   ]
  },
  {
   "cell_type": "code",
   "execution_count": 3,
   "metadata": {},
   "outputs": [],
   "source": [
    "events_df = events_df.dropna(axis='index', how='any', subset=['description'])\n",
    "events_df['description'] = events_df['description'].replace('https?:\\/\\/[^\\s]+', '', regex=True)\n",
    "events_df['description'] = events_df['description'].str.lower()\n",
    "events_df['description'] = events_df['description'].replace('ё', 'е', regex=True)\n",
    "events_df['description'] = events_df['description'].replace('\\w*январ\\w*|\\w*феврал\\w*|\\w*март\\w*|\\w*апрел\\w*|\\w*июн\\w*|\\w*июл\\w*|\\w*август\\w*|\\w*сентябр\\w*|\\w*октябр\\w*|\\w*ноябр\\w*|\\w*декабр\\w*|\\w*ма.', ' ', regex=True)\n",
    "events_df['description'] = events_df['description'].replace('[^а-яА-Яa-zA-Z]', ' ', regex=True)"
   ]
  },
  {
   "cell_type": "code",
   "execution_count": 4,
   "metadata": {},
   "outputs": [],
   "source": [
    "morph = pymorphy2.MorphAnalyzer()"
   ]
  },
  {
   "cell_type": "code",
   "execution_count": 5,
   "metadata": {},
   "outputs": [],
   "source": [
    "descr_array = []\n",
    "for descr in events_df['description']:\n",
    "    descr = [morph.parse(word)[0].normal_form for word in descr.split() if morph.parse(word)[0].tag.POS not in {'INTJ', 'PRCL', 'CONJ', 'PREP'}]\n",
    "    descr_array.append(' '.join(descr))\n",
    "    \n",
    "events_df['description'] = descr_array"
   ]
  },
  {
   "cell_type": "code",
   "execution_count": 6,
   "metadata": {},
   "outputs": [
    {
     "data": {
      "text/plain": [
       "0       привет мы gdg saint petersburg собирать первый...\n",
       "1       привет состояться первый hardcore evening кото...\n",
       "2       привет среда питерский офис центр разработка т...\n",
       "3       весь привет совсем скоро случиться один главны...\n",
       "4       весь привет мы приглашать вы весь главное собы...\n",
       "5       весь привет свет недавний анонс google тот kot...\n",
       "6       весь привет долго летний перерыв мы возвращать...\n",
       "7       coming soon in st petersburg september one of ...\n",
       "8       весь привет большой число ивент мобильный разр...\n",
       "9       весь привет уже неделя мы состояться новый мит...\n",
       "10          what we ll do what to bring important to know\n",
       "11                                     регистрация группа\n",
       "12      петербург стартовать android академия быть зан...\n",
       "13                                            регистрация\n",
       "14                                            регистрация\n",
       "15                                            регистрация\n",
       "16                                            регистрация\n",
       "17                                            регистрация\n",
       "18                                     ссылка регистрация\n",
       "19                                            регистрация\n",
       "20                                            регистрация\n",
       "21                                            регистрация\n",
       "22                                            регистрация\n",
       "23      весь привет неделя назад mountain view заверши...\n",
       "24                                            регистрация\n",
       "25      месяц назад mountain view завершиться google i...\n",
       "26      весь привет давно мы быть ничего google assist...\n",
       "27      весь привет это лето петербург приезжать hadi ...\n",
       "28                                    коммьюнити зона gdg\n",
       "29      год санкт петербура пройти devfest spb посвяти...\n",
       "                              ...                        \n",
       "1273    среда состояться очередной собрание spblug про...\n",
       "1274    рамка го слёт it сообщество санкт петербург it...\n",
       "1275    коллега мы компания semrush предлагать собрать...\n",
       "1276    начинать год федеральный законодательство обяз...\n",
       "1277    сергей веенко старший pазработчик компания dat...\n",
       "1278    офис компания semrush пройти встреча андрей ле...\n",
       "1279    юбилейный itgm кто быть тот знать там всегда и...\n",
       "1280    весь привет приглашать гость return on intelli...\n",
       "1281    конференция разработчик специалист настройка э...\n",
       "1282    добро пожаловать очередной встреча рамка itgm ...\n",
       "1283    what we ll do репетиция празднование новый год...\n",
       "1284    what we ll do весь привет напоминать среда ест...\n",
       "1285    весь привет близиться конец мы нос линуксовка ...\n",
       "1286    весь привет заканчиваться этот необычайно тёпл...\n",
       "1287    приглашать вы встреча загородный отель райвол ...\n",
       "1288    коллега приглашать вы конференция chaosconf он...\n",
       "1289    тренироваться отмечать новый год рассказывать ...\n",
       "1290    встреча начало регистрация вечерний кофе печен...\n",
       "1291    it сообщество петербург один время один место ...\n",
       "1292    дорогой друг неделя состояться встреча ждать в...\n",
       "1293    санкт петербург пройти компьютерный фестиваль ...\n",
       "1294    среда состояться очередной собрание санкт пете...\n",
       "1295    мы прийти лев гончаров t systems yaml develope...\n",
       "1296    добрый время сутки дорогой друг мы хотеть пост...\n",
       "1297    ещё только середина мы уже найти докладчик оче...\n",
       "1298    добро пожаловать заключительный это год встреч...\n",
       "1299    хотеть пригласить вы главный конференция devop...\n",
       "1300    лев гончаров t systems мы быть ansible роль ym...\n",
       "1301    друг рада пригласить вы встреча посвятить данн...\n",
       "1302    друг добро пожаловать сессия беседа hr partner...\n",
       "Name: description, Length: 1298, dtype: object"
      ]
     },
     "execution_count": 6,
     "metadata": {},
     "output_type": "execute_result"
    }
   ],
   "source": [
    "events_df['description']"
   ]
  }
 ],
 "metadata": {
  "kernelspec": {
   "display_name": "Python 3",
   "language": "python",
   "name": "python3"
  },
  "language_info": {
   "codemirror_mode": {
    "name": "ipython",
    "version": 3
   },
   "file_extension": ".py",
   "mimetype": "text/x-python",
   "name": "python",
   "nbconvert_exporter": "python",
   "pygments_lexer": "ipython3",
   "version": "3.6.4"
  }
 },
 "nbformat": 4,
 "nbformat_minor": 2
}
